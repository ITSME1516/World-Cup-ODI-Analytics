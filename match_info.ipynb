{
 "cells": [
  {
   "cell_type": "code",
   "execution_count": 2,
   "metadata": {},
   "outputs": [],
   "source": [
    "import pandas as pd\n",
    "import bs4\n",
    "import requests\n",
    "import csv"
   ]
  },
  {
   "cell_type": "code",
   "execution_count": 3,
   "metadata": {},
   "outputs": [
    {
     "name": "stdout",
     "output_type": "stream",
     "text": [
      "./Team/t20_wc_teams_1975.csv\n",
      "./Team/t20_wc_teams_1979.csv\n",
      "./Team/t20_wc_teams_1983.csv\n",
      "./Team/t20_wc_teams_1987_88.csv\n",
      "./Team/t20_wc_teams_1991_92.csv\n",
      "./Team/t20_wc_teams_1995_96.csv\n",
      "./Team/t20_wc_teams_1999.csv\n",
      "./Team/t20_wc_teams_2002_03.csv\n",
      "./Team/t20_wc_teams_2006_07.csv\n",
      "./Team/t20_wc_teams_2010_11.csv\n",
      "./Team/t20_wc_teams_2014_15.csv\n",
      "./Team/t20_wc_teams_2019.csv\n",
      "./Team/t20_wc_teams_2023_24.csv\n"
     ]
    }
   ],
   "source": [
    "match_links = pd.read_csv(\"Match Links.csv\")\n",
    "for year,link in zip(match_links.Year,match_links.Link):\n",
    "    url = link\n",
    "    code = requests.get(url)\n",
    "    soup = bs4.BeautifulSoup(code.content,\"html.parser\")\n",
    "    table = soup.find(\"table\")\n",
    "\n",
    "\n",
    "    #t20_match_list\n",
    "    match = []\n",
    "    for i in table.find_all('tr'):\n",
    "        teams = []\n",
    "        vs = \"\"\n",
    "        count = 0\n",
    "        for j in i.find_all(\"td\"):\n",
    "            teams.append(j.text )\n",
    "            count+=1\n",
    "            if count == 2:\n",
    "                vs = teams[0] + \" VS \" +teams[1]\n",
    "                teams.insert(0,vs)\n",
    "                \n",
    "        match.append(teams)\n",
    "    #print(match)\n",
    "\n",
    "\n",
    "\n",
    "    t20_wc_teams = open(\"./Team/t20_wc_teams_\"+ str(year).replace(\"/\",\"_\") +\".csv\",\"w\",newline='')\n",
    "    write = csv.writer(t20_wc_teams,skipinitialspace=True)\n",
    "    write.writerows(match)\n",
    "    t20_wc_teams.close()\n",
    "\n",
    "    #t20_match_list\n",
    "    match_links = []\n",
    "    ground_link = []\n",
    "    for i in table.find_all('tr'):\n",
    "        #links.append(list(i.children)[-1].a)\n",
    "        try:\n",
    "            match_links.append(\"https://www.espncricinfo.com\" + list(i.children)[-1].a[\"href\"])\n",
    "            ground_link.append(\"https://www.espncricinfo.com\" + list(i.children)[-3].a[\"href\"])\n",
    "        except Exception as TypeError:\n",
    "            match_links.append(\"Match Link\")\n",
    "            ground_link.append(\"Ground Link\")\n",
    "    \n",
    "    print(\"./Team/t20_wc_teams_\"+ str(year).replace(\"/\",\"_\") +\".csv\")\n",
    "    df = pd.read_csv(\"./Team/t20_wc_teams_\"+ str(year).replace(\"/\",\"_\") +\".csv\")\n",
    "    df[match_links[0]] = list(match_links[1:])\n",
    "    df[ground_link[0]] = list(ground_link[1:])\n",
    "\n",
    "\n",
    "    df.to_csv(\"./Team/t20_wc_teams_\"+ str(year).replace(\"/\",\"_\") +\".csv\",index=False)\n"
   ]
  },
  {
   "cell_type": "code",
   "execution_count": null,
   "metadata": {},
   "outputs": [],
   "source": []
  },
  {
   "cell_type": "code",
   "execution_count": null,
   "metadata": {},
   "outputs": [],
   "source": []
  }
 ],
 "metadata": {
  "kernelspec": {
   "display_name": "base",
   "language": "python",
   "name": "python3"
  },
  "language_info": {
   "codemirror_mode": {
    "name": "ipython",
    "version": 3
   },
   "file_extension": ".py",
   "mimetype": "text/x-python",
   "name": "python",
   "nbconvert_exporter": "python",
   "pygments_lexer": "ipython3",
   "version": "3.12.4"
  }
 },
 "nbformat": 4,
 "nbformat_minor": 2
}
