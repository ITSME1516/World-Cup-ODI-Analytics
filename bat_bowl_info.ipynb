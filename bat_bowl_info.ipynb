{
 "cells": [
  {
   "cell_type": "code",
   "execution_count": 1,
   "metadata": {},
   "outputs": [],
   "source": [
    "# Player Info\n",
    "\n",
    "import pandas as pd\n",
    "from bs4 import BeautifulSoup\n",
    "import requests\n",
    "import csv\n"
   ]
  },
  {
   "cell_type": "code",
   "execution_count": 3,
   "metadata": {},
   "outputs": [],
   "source": [
    "df_match = pd.read_csv(\"./Data/all_match_info.csv\")\n",
    "match = []\n",
    "match.append(list(df_match.columns))\n",
    "match.extend(list(df_match.values))\n",
    "\n"
   ]
  },
  {
   "cell_type": "code",
   "execution_count": 5,
   "metadata": {},
   "outputs": [
    {
     "data": {
      "text/plain": [
       "'https://www.espncricinfo.com/series/prudential-world-cup-1975-60793/australia-vs-west-indies-final-65049/full-scorecard'"
      ]
     },
     "execution_count": 5,
     "metadata": {},
     "output_type": "execute_result"
    }
   ],
   "source": [
    "links = list(pd.read_csv(\"./Data/all_match_info.csv\")['Match Link'])\n",
    "links[0]"
   ]
  },
  {
   "cell_type": "code",
   "execution_count": 7,
   "metadata": {},
   "outputs": [],
   "source": [
    "batting_main_dic ={}\n",
    "batting_num = 0\n",
    "bowling_main_dic ={}\n",
    "bowling_num = 0\n",
    "\n",
    "batting_player_link = []\n",
    "batting_player_name = []\n",
    "batting_players_remove_link = []\n",
    "\n",
    "bowling_player_link = []\n",
    "bowler_name = []\n",
    "\n",
    "matchs = []\n",
    "\n",
    "c = 1\n",
    "for link in links[0:]:\n",
    "    code = requests.get(link)\n",
    "    soup = BeautifulSoup(code.content,\"html.parser\")\n",
    "    table = soup.find_all(attrs={\"class\":\"ds-mt-2\"})\n",
    "    \n",
    "    for team in table:\n",
    "        \"\"\"for i in team.select(\"span.ds-text-title-xs.ds-font-bold.ds-capitalize\"):\n",
    "            teaminnings = i.text\"\"\"\n",
    "\n",
    "        for tea in team.find_all(\"table\"):\n",
    "            teaminnings = team.select(\"span.ds-text-title-xs.ds-font-bold.ds-capitalize\")[0].text\n",
    "            if \"ci-scorecard-table\" in tea[\"class\"]:\n",
    "                head = []\n",
    "                count = 0\n",
    "                bat = 0\n",
    "                for i in tea.thead.find_all(\"th\"):\n",
    "                    head.append(i.text)\n",
    "                    count+=1\n",
    "                    if count == 2:\n",
    "                        head.insert(2,\"Batting Possition\")\n",
    "                        head.insert(0,\"VS\")\n",
    "                        head.append(\"Match Id\")\n",
    "                        head.append(\"Teaminnings\")\n",
    "                        \n",
    "                body = []\n",
    "                \n",
    "                for i in tea.tbody.find_all(\"tr\"):\n",
    "                    in_body = []\n",
    "                    count = 0\n",
    "                    \n",
    "                    \n",
    "                    for j in i.find_all(\"td\"):\n",
    "                        in_body.append(j.text)\n",
    "                        \n",
    "                        count+=1\n",
    "                        if count == 2:\n",
    "                            bat +=1\n",
    "                            in_body.insert(2,bat)\n",
    "                            in_body.insert(0,match[c][0])\n",
    "                            in_body.append(match[c][7])\n",
    "                            in_body.append(teaminnings)\n",
    "                            \n",
    "                        if j.a:\n",
    "                            batting_player_name.append(j.a.text)\n",
    "                            batting_player_link.append(j.a[\"href\"])\n",
    "                        try:\n",
    "                            if j.div.strong.text == \"Did not bat: \":\n",
    "                                batting_players_remove_link.append(j.a[\"href\"])\n",
    "                        except Exception as e:\n",
    "                            pass                    \n",
    "\n",
    "                    if len(in_body) == 12:\n",
    "                        body.append(in_body)\n",
    "                    \n",
    "                for h in body:\n",
    "                    dic = {}\n",
    "                    for i in range(12):\n",
    "                        dic[head[i]]=h[i]\n",
    "                    batting_main_dic[batting_num] = dic\n",
    "                    batting_num+=1\n",
    "         \n",
    "            else:\n",
    "                head = []\n",
    "                count = 0\n",
    "                bat = 0\n",
    "                for i in tea.thead.find_all(\"th\"):\n",
    "                    head.append(i.text)\n",
    "                    count+=1\n",
    "                    if count == 2:\n",
    "                        head.insert(0,\"VS\")\n",
    "                        head.insert(1,\"Match Id\")\n",
    "                        head.append(\"Teaminnings\")\n",
    "                        \n",
    "                body = []\n",
    "                for i in tea.tbody.find_all(\"tr\"):\n",
    "                    in_body = []\n",
    "                    count = 0\n",
    "                    for j in i.find_all(\"td\"):\n",
    "                        in_body.append(j.text)\n",
    "                        count+=1\n",
    "                        if count == 2:\n",
    "                            in_body.insert(0,match[c][0])\n",
    "                            in_body.insert(1,match[c][7])\n",
    "                            in_body.append(teaminnings)\n",
    "                            \n",
    "                        if j.a :\n",
    "                            bowler_name.append(j.a.text)\n",
    "                            bowling_player_link.append(j.a[\"href\"])\n",
    "                            \n",
    "                    \n",
    "                    if len(in_body) == 14:\n",
    "                        body.append(in_body)\n",
    "                    \n",
    "                for h in body:\n",
    "                    dic = {}\n",
    "                    for i in range(14):\n",
    "                        dic[head[i]]=h[i]\n",
    "                    bowling_main_dic[bowling_num] = dic\n",
    "                    bowling_num+=1\n",
    "    c+=1"
   ]
  },
  {
   "cell_type": "code",
   "execution_count": 9,
   "metadata": {},
   "outputs": [
    {
     "data": {
      "text/plain": [
       "'New Zealand'"
      ]
     },
     "execution_count": 9,
     "metadata": {},
     "output_type": "execute_result"
    }
   ],
   "source": [
    "team.select(\"span.ds-text-title-xs.ds-font-bold.ds-capitalize\")[0].text"
   ]
  },
  {
   "cell_type": "code",
   "execution_count": 11,
   "metadata": {},
   "outputs": [
    {
     "data": {
      "text/plain": [
       "[<span class=\"ds-text-title-xs ds-font-bold ds-capitalize\">New Zealand</span>]"
      ]
     },
     "execution_count": 11,
     "metadata": {},
     "output_type": "execute_result"
    }
   ],
   "source": [
    "team.select(\"span.ds-text-title-xs.ds-font-bold.ds-capitalize\")"
   ]
  },
  {
   "cell_type": "code",
   "execution_count": 13,
   "metadata": {},
   "outputs": [],
   "source": [
    "bowling = pd.DataFrame(bowling_main_dic.values(),index=list(range(bowling_num)))"
   ]
  },
  {
   "cell_type": "code",
   "execution_count": 15,
   "metadata": {},
   "outputs": [],
   "source": [
    "# Getting all bowlers link\n",
    "count = 0\n",
    "main_links = {}\n",
    "for i,j in zip(bowler_name,bowling_player_link):\n",
    "    if i == bowling_main_dic[count]['Bowling']:\n",
    "        main_links[i] = \"https://www.espncricinfo.com\" + j\n",
    "        count+=1\n",
    "\n"
   ]
  },
  {
   "cell_type": "code",
   "execution_count": 17,
   "metadata": {},
   "outputs": [],
   "source": [
    "# Getting all batters link\n",
    "count = 0\n",
    "for i,j in zip(batting_player_name,batting_player_link):\n",
    "    if i == bowling_main_dic[count]['Bowling']:\n",
    "        main_links[i] = \"https://www.espncricinfo.com\" + j\n",
    "        count+=1\n",
    "\n"
   ]
  },
  {
   "cell_type": "code",
   "execution_count": 19,
   "metadata": {},
   "outputs": [],
   "source": [
    "key = main_links.keys()\n",
    "value = main_links.values()\n",
    "all_link_dic = {}\n",
    "all_link_dic[\"Name\"] = key\n",
    "all_link_dic[\"Link\"] = value\n",
    "all_link_dic = pd.DataFrame(all_link_dic)\n",
    "all_link_dic.to_csv(\"./Data/Player Links.csv\",index=False)"
   ]
  },
  {
   "cell_type": "code",
   "execution_count": 21,
   "metadata": {},
   "outputs": [],
   "source": [
    "\n",
    "batting = pd.DataFrame(batting_main_dic.values(),index=list(range(batting_num)))"
   ]
  },
  {
   "cell_type": "code",
   "execution_count": 23,
   "metadata": {},
   "outputs": [],
   "source": [
    "batting.to_csv(\"./Data/all_t20_wc_batting.csv\",index=False)\n",
    "bowling.to_csv(\"./Data/all_t20_wc_bowling.csv\",index=False)"
   ]
  },
  {
   "cell_type": "code",
   "execution_count": null,
   "metadata": {},
   "outputs": [],
   "source": []
  },
  {
   "cell_type": "code",
   "execution_count": null,
   "metadata": {},
   "outputs": [],
   "source": []
  },
  {
   "cell_type": "code",
   "execution_count": null,
   "metadata": {},
   "outputs": [],
   "source": []
  }
 ],
 "metadata": {
  "kernelspec": {
   "display_name": "Python 3 (ipykernel)",
   "language": "python",
   "name": "python3"
  },
  "language_info": {
   "codemirror_mode": {
    "name": "ipython",
    "version": 3
   },
   "file_extension": ".py",
   "mimetype": "text/x-python",
   "name": "python",
   "nbconvert_exporter": "python",
   "pygments_lexer": "ipython3",
   "version": "3.12.4"
  }
 },
 "nbformat": 4,
 "nbformat_minor": 4
}
