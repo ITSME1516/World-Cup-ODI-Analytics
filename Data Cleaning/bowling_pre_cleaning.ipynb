{
 "cells": [
  {
   "cell_type": "code",
   "execution_count": 2,
   "metadata": {},
   "outputs": [],
   "source": [
    "import pandas as pd "
   ]
  },
  {
   "cell_type": "code",
   "execution_count": 3,
   "metadata": {},
   "outputs": [
    {
     "name": "stdout",
     "output_type": "stream",
     "text": [
      "<class 'pandas.core.frame.DataFrame'>\n",
      "RangeIndex: 5849 entries, 0 to 5848\n",
      "Data columns (total 14 columns):\n",
      " #   Column       Non-Null Count  Dtype  \n",
      "---  ------       --------------  -----  \n",
      " 0   VS           5849 non-null   object \n",
      " 1   Match Id     5849 non-null   object \n",
      " 2   Bowling      5849 non-null   object \n",
      " 3   O            5849 non-null   float64\n",
      " 4   Teaminnings  5849 non-null   object \n",
      " 5   M            5849 non-null   int64  \n",
      " 6   R            5849 non-null   int64  \n",
      " 7   W            5849 non-null   int64  \n",
      " 8   ECON         5849 non-null   float64\n",
      " 9   0s           5849 non-null   object \n",
      " 10  4s           5849 non-null   object \n",
      " 11  6s           5849 non-null   object \n",
      " 12  WD           5849 non-null   int64  \n",
      " 13  NB           5849 non-null   int64  \n",
      "dtypes: float64(2), int64(5), object(7)\n",
      "memory usage: 639.9+ KB\n"
     ]
    }
   ],
   "source": [
    "bowling_data = pd.read_csv(\"../Data/all_t20_wc_bowling.csv\")\n",
    "bowling_data.info()"
   ]
  },
  {
   "cell_type": "code",
   "execution_count": 4,
   "metadata": {},
   "outputs": [
    {
     "data": {
      "text/plain": [
       "Index(['VS', 'Match Id', 'Player', 'Overs', 'Teaminnings', 'Mins',\n",
       "       'Given Runs', 'Wickets', 'ECON', 'Dot Balls', 'Fours', 'Sixs', 'Wides',\n",
       "       'No Balls'],\n",
       "      dtype='object')"
      ]
     },
     "execution_count": 4,
     "metadata": {},
     "output_type": "execute_result"
    }
   ],
   "source": [
    "bowling_data = bowling_data.rename(columns={\"Bowling\":\"Player\",\"O\":\"Overs\",\"M\":\"Mins\",\"R\":\"Given Runs\",\"W\":\"Wickets\",\"0s\":\"Dot Balls\",\"4s\":\"Fours\",\"6s\":\"Sixs\",\"WD\":\"Wides\",\"NB\":\"No Balls\"})\n",
    "bowling_data.columns"
   ]
  },
  {
   "cell_type": "code",
   "execution_count": 5,
   "metadata": {},
   "outputs": [
    {
     "data": {
      "text/html": [
       "<div>\n",
       "<style scoped>\n",
       "    .dataframe tbody tr th:only-of-type {\n",
       "        vertical-align: middle;\n",
       "    }\n",
       "\n",
       "    .dataframe tbody tr th {\n",
       "        vertical-align: top;\n",
       "    }\n",
       "\n",
       "    .dataframe thead th {\n",
       "        text-align: right;\n",
       "    }\n",
       "</style>\n",
       "<table border=\"1\" class=\"dataframe\">\n",
       "  <thead>\n",
       "    <tr style=\"text-align: right;\">\n",
       "      <th></th>\n",
       "      <th>VS</th>\n",
       "      <th>Match Id</th>\n",
       "      <th>Player</th>\n",
       "      <th>Overs</th>\n",
       "      <th>Teaminnings</th>\n",
       "      <th>Mins</th>\n",
       "      <th>Given Runs</th>\n",
       "      <th>Wickets</th>\n",
       "      <th>ECON</th>\n",
       "      <th>Dot Balls</th>\n",
       "      <th>Fours</th>\n",
       "      <th>Sixs</th>\n",
       "      <th>Wides</th>\n",
       "      <th>No Balls</th>\n",
       "    </tr>\n",
       "  </thead>\n",
       "  <tbody>\n",
       "    <tr>\n",
       "      <th>0</th>\n",
       "      <td>Australia VS West Indies</td>\n",
       "      <td>ODI # 33</td>\n",
       "      <td>Dennis Lillee</td>\n",
       "      <td>9.0</td>\n",
       "      <td>England</td>\n",
       "      <td>3</td>\n",
       "      <td>26</td>\n",
       "      <td>1</td>\n",
       "      <td>2.88</td>\n",
       "      <td>0</td>\n",
       "      <td>0</td>\n",
       "      <td>0</td>\n",
       "      <td>0</td>\n",
       "      <td>0</td>\n",
       "    </tr>\n",
       "    <tr>\n",
       "      <th>1</th>\n",
       "      <td>Australia VS West Indies</td>\n",
       "      <td>ODI # 33</td>\n",
       "      <td>Gary Gilmour</td>\n",
       "      <td>12.0</td>\n",
       "      <td>England</td>\n",
       "      <td>6</td>\n",
       "      <td>14</td>\n",
       "      <td>6</td>\n",
       "      <td>1.16</td>\n",
       "      <td>0</td>\n",
       "      <td>0</td>\n",
       "      <td>0</td>\n",
       "      <td>0</td>\n",
       "      <td>0</td>\n",
       "    </tr>\n",
       "    <tr>\n",
       "      <th>2</th>\n",
       "      <td>Australia VS West Indies</td>\n",
       "      <td>ODI # 33</td>\n",
       "      <td>Max Walker</td>\n",
       "      <td>9.2</td>\n",
       "      <td>England</td>\n",
       "      <td>3</td>\n",
       "      <td>22</td>\n",
       "      <td>3</td>\n",
       "      <td>2.35</td>\n",
       "      <td>0</td>\n",
       "      <td>0</td>\n",
       "      <td>0</td>\n",
       "      <td>0</td>\n",
       "      <td>0</td>\n",
       "    </tr>\n",
       "    <tr>\n",
       "      <th>3</th>\n",
       "      <td>Australia VS West Indies</td>\n",
       "      <td>ODI # 33</td>\n",
       "      <td>Jeff Thomson</td>\n",
       "      <td>6.0</td>\n",
       "      <td>England</td>\n",
       "      <td>0</td>\n",
       "      <td>17</td>\n",
       "      <td>0</td>\n",
       "      <td>2.83</td>\n",
       "      <td>0</td>\n",
       "      <td>0</td>\n",
       "      <td>0</td>\n",
       "      <td>0</td>\n",
       "      <td>0</td>\n",
       "    </tr>\n",
       "    <tr>\n",
       "      <th>4</th>\n",
       "      <td>Australia VS West Indies</td>\n",
       "      <td>ODI # 33</td>\n",
       "      <td>Geoff Arnold</td>\n",
       "      <td>7.4</td>\n",
       "      <td>Australia</td>\n",
       "      <td>2</td>\n",
       "      <td>15</td>\n",
       "      <td>1</td>\n",
       "      <td>1.95</td>\n",
       "      <td>0</td>\n",
       "      <td>0</td>\n",
       "      <td>0</td>\n",
       "      <td>0</td>\n",
       "      <td>0</td>\n",
       "    </tr>\n",
       "  </tbody>\n",
       "</table>\n",
       "</div>"
      ],
      "text/plain": [
       "                         VS  Match Id         Player  Overs Teaminnings  Mins  \\\n",
       "0  Australia VS West Indies  ODI # 33  Dennis Lillee    9.0     England     3   \n",
       "1  Australia VS West Indies  ODI # 33   Gary Gilmour   12.0     England     6   \n",
       "2  Australia VS West Indies  ODI # 33     Max Walker    9.2     England     3   \n",
       "3  Australia VS West Indies  ODI # 33   Jeff Thomson    6.0     England     0   \n",
       "4  Australia VS West Indies  ODI # 33   Geoff Arnold    7.4   Australia     2   \n",
       "\n",
       "   Given Runs  Wickets  ECON Dot Balls Fours Sixs  Wides  No Balls  \n",
       "0          26        1  2.88         0     0    0      0         0  \n",
       "1          14        6  1.16         0     0    0      0         0  \n",
       "2          22        3  2.35         0     0    0      0         0  \n",
       "3          17        0  2.83         0     0    0      0         0  \n",
       "4          15        1  1.95         0     0    0      0         0  "
      ]
     },
     "execution_count": 5,
     "metadata": {},
     "output_type": "execute_result"
    }
   ],
   "source": [
    "bowling_data = bowling_data.replace(\"-\",0)\n",
    "bowling_data.head()"
   ]
  },
  {
   "cell_type": "code",
   "execution_count": 7,
   "metadata": {},
   "outputs": [],
   "source": [
    "bowling_data.to_csv(\"./Data/pre_bowling_data.csv\",index=False)"
   ]
  },
  {
   "cell_type": "code",
   "execution_count": null,
   "metadata": {},
   "outputs": [],
   "source": []
  },
  {
   "cell_type": "code",
   "execution_count": null,
   "metadata": {},
   "outputs": [],
   "source": []
  },
  {
   "cell_type": "code",
   "execution_count": null,
   "metadata": {},
   "outputs": [],
   "source": []
  }
 ],
 "metadata": {
  "kernelspec": {
   "display_name": "base",
   "language": "python",
   "name": "python3"
  },
  "language_info": {
   "codemirror_mode": {
    "name": "ipython",
    "version": 3
   },
   "file_extension": ".py",
   "mimetype": "text/x-python",
   "name": "python",
   "nbconvert_exporter": "python",
   "pygments_lexer": "ipython3",
   "version": "3.12.4"
  }
 },
 "nbformat": 4,
 "nbformat_minor": 2
}
