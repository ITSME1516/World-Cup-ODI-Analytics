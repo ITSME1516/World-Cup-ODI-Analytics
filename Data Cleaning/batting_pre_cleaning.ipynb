{
 "cells": [
  {
   "cell_type": "code",
   "execution_count": 1,
   "metadata": {},
   "outputs": [],
   "source": [
    "import pandas as pd\n",
    "import numpy as np"
   ]
  },
  {
   "cell_type": "code",
   "execution_count": 2,
   "metadata": {},
   "outputs": [
    {
     "name": "stdout",
     "output_type": "stream",
     "text": [
      "<class 'pandas.core.frame.DataFrame'>\n",
      "RangeIndex: 8681 entries, 0 to 8680\n",
      "Data columns (total 12 columns):\n",
      " #   Column             Non-Null Count  Dtype \n",
      "---  ------             --------------  ----- \n",
      " 0   VS                 8681 non-null   object\n",
      " 1   Batting            8681 non-null   object\n",
      " 2                      8681 non-null   object\n",
      " 3   Batting Possition  8681 non-null   int64 \n",
      " 4   Match Id           8681 non-null   object\n",
      " 5   Teaminnings        8681 non-null   object\n",
      " 6   R                  8681 non-null   object\n",
      " 7   B                  8681 non-null   object\n",
      " 8   M                  8681 non-null   object\n",
      " 9   4s                 8681 non-null   object\n",
      " 10  6s                 8681 non-null   object\n",
      " 11  SR                 8681 non-null   object\n",
      "dtypes: int64(1), object(11)\n",
      "memory usage: 814.0+ KB\n"
     ]
    }
   ],
   "source": [
    "# gett file\n",
    "\n",
    "batting_data = pd.read_csv(\"../Data/all_t20_wc_batting.csv\")\n",
    "batting_data.info()"
   ]
  },
  {
   "cell_type": "code",
   "execution_count": 3,
   "metadata": {},
   "outputs": [
    {
     "data": {
      "text/html": [
       "<div>\n",
       "<style scoped>\n",
       "    .dataframe tbody tr th:only-of-type {\n",
       "        vertical-align: middle;\n",
       "    }\n",
       "\n",
       "    .dataframe tbody tr th {\n",
       "        vertical-align: top;\n",
       "    }\n",
       "\n",
       "    .dataframe thead th {\n",
       "        text-align: right;\n",
       "    }\n",
       "</style>\n",
       "<table border=\"1\" class=\"dataframe\">\n",
       "  <thead>\n",
       "    <tr style=\"text-align: right;\">\n",
       "      <th></th>\n",
       "      <th>VS</th>\n",
       "      <th>Batting</th>\n",
       "      <th></th>\n",
       "      <th>Batting Possition</th>\n",
       "      <th>Match Id</th>\n",
       "      <th>Teaminnings</th>\n",
       "      <th>R</th>\n",
       "      <th>B</th>\n",
       "      <th>M</th>\n",
       "      <th>4s</th>\n",
       "      <th>6s</th>\n",
       "      <th>SR</th>\n",
       "    </tr>\n",
       "  </thead>\n",
       "  <tbody>\n",
       "    <tr>\n",
       "      <th>0</th>\n",
       "      <td>Australia VS West Indies</td>\n",
       "      <td>Roy Fredericks</td>\n",
       "      <td>hit wicket b Lillee</td>\n",
       "      <td>1</td>\n",
       "      <td>ODI # 33</td>\n",
       "      <td>West Indies</td>\n",
       "      <td>7</td>\n",
       "      <td>13</td>\n",
       "      <td>14</td>\n",
       "      <td>0</td>\n",
       "      <td>0</td>\n",
       "      <td>53.84</td>\n",
       "    </tr>\n",
       "    <tr>\n",
       "      <th>1</th>\n",
       "      <td>Australia VS West Indies</td>\n",
       "      <td>Gordon Greenidge</td>\n",
       "      <td>c †Marsh b Thomson</td>\n",
       "      <td>2</td>\n",
       "      <td>ODI # 33</td>\n",
       "      <td>West Indies</td>\n",
       "      <td>13</td>\n",
       "      <td>61</td>\n",
       "      <td>80</td>\n",
       "      <td>1</td>\n",
       "      <td>0</td>\n",
       "      <td>21.31</td>\n",
       "    </tr>\n",
       "    <tr>\n",
       "      <th>2</th>\n",
       "      <td>Australia VS West Indies</td>\n",
       "      <td>Alvin Kallicharran</td>\n",
       "      <td>c †Marsh b Gilmour</td>\n",
       "      <td>3</td>\n",
       "      <td>ODI # 33</td>\n",
       "      <td>West Indies</td>\n",
       "      <td>12</td>\n",
       "      <td>18</td>\n",
       "      <td>26</td>\n",
       "      <td>2</td>\n",
       "      <td>0</td>\n",
       "      <td>66.66</td>\n",
       "    </tr>\n",
       "    <tr>\n",
       "      <th>3</th>\n",
       "      <td>Australia VS West Indies</td>\n",
       "      <td>Rohan Kanhai</td>\n",
       "      <td>b Gilmour</td>\n",
       "      <td>4</td>\n",
       "      <td>ODI # 33</td>\n",
       "      <td>West Indies</td>\n",
       "      <td>55</td>\n",
       "      <td>105</td>\n",
       "      <td>156</td>\n",
       "      <td>8</td>\n",
       "      <td>0</td>\n",
       "      <td>52.38</td>\n",
       "    </tr>\n",
       "    <tr>\n",
       "      <th>4</th>\n",
       "      <td>Australia VS West Indies</td>\n",
       "      <td>Clive Lloyd (c)</td>\n",
       "      <td>c †Marsh b Gilmour</td>\n",
       "      <td>5</td>\n",
       "      <td>ODI # 33</td>\n",
       "      <td>West Indies</td>\n",
       "      <td>102</td>\n",
       "      <td>85</td>\n",
       "      <td>108</td>\n",
       "      <td>12</td>\n",
       "      <td>2</td>\n",
       "      <td>120.00</td>\n",
       "    </tr>\n",
       "  </tbody>\n",
       "</table>\n",
       "</div>"
      ],
      "text/plain": [
       "                         VS              Batting                       \\\n",
       "0  Australia VS West Indies      Roy Fredericks   hit wicket b Lillee   \n",
       "1  Australia VS West Indies    Gordon Greenidge    c †Marsh b Thomson   \n",
       "2  Australia VS West Indies  Alvin Kallicharran    c †Marsh b Gilmour   \n",
       "3  Australia VS West Indies        Rohan Kanhai             b Gilmour   \n",
       "4  Australia VS West Indies      Clive Lloyd (c)   c †Marsh b Gilmour   \n",
       "\n",
       "   Batting Possition  Match Id  Teaminnings    R    B    M  4s 6s      SR  \n",
       "0                  1  ODI # 33  West Indies    7   13   14   0  0   53.84  \n",
       "1                  2  ODI # 33  West Indies   13   61   80   1  0   21.31  \n",
       "2                  3  ODI # 33  West Indies   12   18   26   2  0   66.66  \n",
       "3                  4  ODI # 33  West Indies   55  105  156   8  0   52.38  \n",
       "4                  5  ODI # 33  West Indies  102   85  108  12  2  120.00  "
      ]
     },
     "execution_count": 3,
     "metadata": {},
     "output_type": "execute_result"
    }
   ],
   "source": [
    "batting_data.head()"
   ]
  },
  {
   "cell_type": "code",
   "execution_count": 4,
   "metadata": {},
   "outputs": [],
   "source": [
    "# Conver the coloumn names more meaningfull\n",
    "\n",
    "batting_data = batting_data.rename(columns={\"Batting\":\"Player\",\"R\":\"Runs\",\"B\":\"Balls\",\"M\":\"Mins\",\"4s\":\"Fours\",\"6s\":\"Sixs\",\"SR\":\"Strike Rate\"})"
   ]
  },
  {
   "cell_type": "code",
   "execution_count": 5,
   "metadata": {},
   "outputs": [],
   "source": [
    "# here we can see that except Batting possition every data is object . In which some data are numaric.\n",
    "\n",
    "# First step to do is . Convert numaric data to int data type. By using astype()"
   ]
  },
  {
   "cell_type": "code",
   "execution_count": 6,
   "metadata": {},
   "outputs": [],
   "source": [
    "batting_data = batting_data.replace(\"-\",\"0\")\n",
    "batting_data[[\"Batting Possition\",\"Runs\",\"Balls\",\"Mins\",\"Fours\",\"Sixs\",\"Strike Rate\"]] = batting_data[[\"Batting Possition\",\"Runs\",\"Balls\",\"Mins\",\"Fours\",\"Sixs\",\"Strike Rate\"]].astype(\"float\")"
   ]
  },
  {
   "cell_type": "code",
   "execution_count": 7,
   "metadata": {},
   "outputs": [
    {
     "data": {
      "text/plain": [
       "VS                    object\n",
       "Player                object\n",
       "                      object\n",
       "Batting Possition    float64\n",
       "Match Id              object\n",
       "Teaminnings           object\n",
       "Runs                 float64\n",
       "Balls                float64\n",
       "Mins                 float64\n",
       "Fours                float64\n",
       "Sixs                 float64\n",
       "Strike Rate          float64\n",
       "dtype: object"
      ]
     },
     "execution_count": 7,
     "metadata": {},
     "output_type": "execute_result"
    }
   ],
   "source": [
    "batting_data.dtypes"
   ]
  },
  {
   "cell_type": "code",
   "execution_count": 8,
   "metadata": {},
   "outputs": [],
   "source": [
    "batting_data.Player = batting_data.Player.apply(lambda x: x.strip(\" † (c) Â â€ \\xa0\"))"
   ]
  },
  {
   "cell_type": "code",
   "execution_count": 9,
   "metadata": {},
   "outputs": [
    {
     "data": {
      "text/plain": [
       "0        Roy Fredericks\n",
       "1      Gordon Greenidge\n",
       "2    Alvin Kallicharran\n",
       "3          Rohan Kanhai\n",
       "4           Clive Lloyd\n",
       "Name: Player, dtype: object"
      ]
     },
     "execution_count": 9,
     "metadata": {},
     "output_type": "execute_result"
    }
   ],
   "source": [
    "batting_data.Player.head()"
   ]
  },
  {
   "cell_type": "code",
   "execution_count": 10,
   "metadata": {},
   "outputs": [],
   "source": [
    "batting_data.to_csv(\"./Data/pre_batting_data.csv\",index=False)"
   ]
  },
  {
   "cell_type": "code",
   "execution_count": 24,
   "metadata": {},
   "outputs": [
    {
     "data": {
      "text/html": [
       "<div>\n",
       "<style scoped>\n",
       "    .dataframe tbody tr th:only-of-type {\n",
       "        vertical-align: middle;\n",
       "    }\n",
       "\n",
       "    .dataframe tbody tr th {\n",
       "        vertical-align: top;\n",
       "    }\n",
       "\n",
       "    .dataframe thead th {\n",
       "        text-align: right;\n",
       "    }\n",
       "</style>\n",
       "<table border=\"1\" class=\"dataframe\">\n",
       "  <thead>\n",
       "    <tr style=\"text-align: right;\">\n",
       "      <th></th>\n",
       "      <th>VS</th>\n",
       "      <th>Player</th>\n",
       "      <th></th>\n",
       "      <th>Batting Possition</th>\n",
       "      <th>Match Id</th>\n",
       "      <th>Teaminnings</th>\n",
       "      <th>Runs</th>\n",
       "      <th>Balls</th>\n",
       "      <th>Mins</th>\n",
       "      <th>Fours</th>\n",
       "      <th>Sixs</th>\n",
       "      <th>Strike Rate</th>\n",
       "    </tr>\n",
       "  </thead>\n",
       "  <tbody>\n",
       "    <tr>\n",
       "      <th>1996</th>\n",
       "      <td>India VS Sri Lanka</td>\n",
       "      <td>Kris Srikkanth</td>\n",
       "      <td>not out</td>\n",
       "      <td>1.0</td>\n",
       "      <td>ODI # 722</td>\n",
       "      <td>India</td>\n",
       "      <td>1.0</td>\n",
       "      <td>2.0</td>\n",
       "      <td>2.0</td>\n",
       "      <td>0.0</td>\n",
       "      <td>0.0</td>\n",
       "      <td>50.0</td>\n",
       "    </tr>\n",
       "    <tr>\n",
       "      <th>1997</th>\n",
       "      <td>India VS Sri Lanka</td>\n",
       "      <td>Kapil Dev</td>\n",
       "      <td>not out</td>\n",
       "      <td>2.0</td>\n",
       "      <td>ODI # 722</td>\n",
       "      <td>India</td>\n",
       "      <td>0.0</td>\n",
       "      <td>0.0</td>\n",
       "      <td>2.0</td>\n",
       "      <td>0.0</td>\n",
       "      <td>0.0</td>\n",
       "      <td>0.0</td>\n",
       "    </tr>\n",
       "  </tbody>\n",
       "</table>\n",
       "</div>"
      ],
      "text/plain": [
       "                      VS          Player            Batting Possition  \\\n",
       "1996  India VS Sri Lanka  Kris Srikkanth  not out                 1.0   \n",
       "1997  India VS Sri Lanka       Kapil Dev  not out                 2.0   \n",
       "\n",
       "       Match Id Teaminnings  Runs  Balls  Mins  Fours  Sixs  Strike Rate  \n",
       "1996  ODI # 722       India   1.0    2.0   2.0    0.0   0.0         50.0  \n",
       "1997  ODI # 722       India   0.0    0.0   2.0    0.0   0.0          0.0  "
      ]
     },
     "execution_count": 24,
     "metadata": {},
     "output_type": "execute_result"
    }
   ],
   "source": []
  },
  {
   "cell_type": "code",
   "execution_count": null,
   "metadata": {},
   "outputs": [],
   "source": []
  }
 ],
 "metadata": {
  "kernelspec": {
   "display_name": "Python 3 (ipykernel)",
   "language": "python",
   "name": "python3"
  },
  "language_info": {
   "codemirror_mode": {
    "name": "ipython",
    "version": 3
   },
   "file_extension": ".py",
   "mimetype": "text/x-python",
   "name": "python",
   "nbconvert_exporter": "python",
   "pygments_lexer": "ipython3",
   "version": "3.12.4"
  }
 },
 "nbformat": 4,
 "nbformat_minor": 4
}
