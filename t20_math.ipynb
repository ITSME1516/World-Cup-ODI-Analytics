{
 "cells": [
  {
   "cell_type": "code",
   "execution_count": 1,
   "metadata": {},
   "outputs": [],
   "source": [
    "url = \"https://www.espncricinfo.com/records/trophy/team-match-results-season/world-cup-12\"\n",
    "import bs4\n",
    "import requests\n",
    "code = requests.get(url)\n",
    "soup = bs4.BeautifulSoup(code.content,\"html.parser\")"
   ]
  },
  {
   "cell_type": "code",
   "execution_count": 2,
   "metadata": {},
   "outputs": [],
   "source": [
    "lsit = soup.find_all(\"div\",attrs={\"class\":\"ds-mb-6\"})"
   ]
  },
  {
   "cell_type": "code",
   "execution_count": 3,
   "metadata": {},
   "outputs": [
    {
     "data": {
      "text/plain": [
       "[<div class=\"ds-mb-6\"><div class=\"ds-text-title-subtle-m ds-font-medium ds-mb-1\">1970s</div><a class=\"ds-inline-flex ds-items-start ds-leading-none\" href=\"/records/season/team-match-results/1975-1975?trophy=12\" title=\"1975\"><span class=\"ds-text-tight-m ds-font-regular ds-text-typo hover:ds-text-typo-primary ds-block ds-mr-2 ds-pr-2 ds-border-line ds-border-r\">1975</span></a><a class=\"ds-inline-flex ds-items-start ds-leading-none\" href=\"/records/season/team-match-results/1979-1979?trophy=12\" title=\"1979\"><span class=\"ds-text-tight-m ds-font-regular ds-text-typo hover:ds-text-typo-primary ds-block ds-mr-2 ds-pr-2\">1979</span></a></div>,\n",
       " <div class=\"ds-mb-6\"><div class=\"ds-text-title-subtle-m ds-font-medium ds-mb-1\">1980s</div><a class=\"ds-inline-flex ds-items-start ds-leading-none\" href=\"/records/season/team-match-results/1983-1983?trophy=12\" title=\"1983\"><span class=\"ds-text-tight-m ds-font-regular ds-text-typo hover:ds-text-typo-primary ds-block ds-mr-2 ds-pr-2 ds-border-line ds-border-r\">1983</span></a><a class=\"ds-inline-flex ds-items-start ds-leading-none\" href=\"/records/season/team-match-results/1987to88-1987to88?trophy=12\" title=\"1987/88\"><span class=\"ds-text-tight-m ds-font-regular ds-text-typo hover:ds-text-typo-primary ds-block ds-mr-2 ds-pr-2\">1987/88</span></a></div>,\n",
       " <div class=\"ds-mb-6\"><div class=\"ds-text-title-subtle-m ds-font-medium ds-mb-1\">1990s</div><a class=\"ds-inline-flex ds-items-start ds-leading-none\" href=\"/records/season/team-match-results/1991to92-1991to92?trophy=12\" title=\"1991/92\"><span class=\"ds-text-tight-m ds-font-regular ds-text-typo hover:ds-text-typo-primary ds-block ds-mr-2 ds-pr-2 ds-border-line ds-border-r\">1991/92</span></a><a class=\"ds-inline-flex ds-items-start ds-leading-none\" href=\"/records/season/team-match-results/1995to96-1995to96?trophy=12\" title=\"1995/96\"><span class=\"ds-text-tight-m ds-font-regular ds-text-typo hover:ds-text-typo-primary ds-block ds-mr-2 ds-pr-2 ds-border-line ds-border-r\">1995/96</span></a><a class=\"ds-inline-flex ds-items-start ds-leading-none\" href=\"/records/season/team-match-results/1999-1999?trophy=12\" title=\"1999\"><span class=\"ds-text-tight-m ds-font-regular ds-text-typo hover:ds-text-typo-primary ds-block ds-mr-2 ds-pr-2\">1999</span></a></div>,\n",
       " <div class=\"ds-mb-6\"><div class=\"ds-text-title-subtle-m ds-font-medium ds-mb-1\">2000s</div><a class=\"ds-inline-flex ds-items-start ds-leading-none\" href=\"/records/season/team-match-results/2002to03-2002to03?trophy=12\" title=\"2002/03\"><span class=\"ds-text-tight-m ds-font-regular ds-text-typo hover:ds-text-typo-primary ds-block ds-mr-2 ds-pr-2 ds-border-line ds-border-r\">2002/03</span></a><a class=\"ds-inline-flex ds-items-start ds-leading-none\" href=\"/records/season/team-match-results/2006to07-2006to07?trophy=12\" title=\"2006/07\"><span class=\"ds-text-tight-m ds-font-regular ds-text-typo hover:ds-text-typo-primary ds-block ds-mr-2 ds-pr-2\">2006/07</span></a></div>,\n",
       " <div class=\"ds-mb-6\"><div class=\"ds-text-title-subtle-m ds-font-medium ds-mb-1\">2010s</div><a class=\"ds-inline-flex ds-items-start ds-leading-none\" href=\"/records/season/team-match-results/2010to11-2010to11?trophy=12\" title=\"2010/11\"><span class=\"ds-text-tight-m ds-font-regular ds-text-typo hover:ds-text-typo-primary ds-block ds-mr-2 ds-pr-2 ds-border-line ds-border-r\">2010/11</span></a><a class=\"ds-inline-flex ds-items-start ds-leading-none\" href=\"/records/season/team-match-results/2014to15-2014to15?trophy=12\" title=\"2014/15\"><span class=\"ds-text-tight-m ds-font-regular ds-text-typo hover:ds-text-typo-primary ds-block ds-mr-2 ds-pr-2 ds-border-line ds-border-r\">2014/15</span></a><a class=\"ds-inline-flex ds-items-start ds-leading-none\" href=\"/records/season/team-match-results/2019-2019?trophy=12\" title=\"2019\"><span class=\"ds-text-tight-m ds-font-regular ds-text-typo hover:ds-text-typo-primary ds-block ds-mr-2 ds-pr-2\">2019</span></a></div>,\n",
       " <div class=\"ds-mb-6\"><div class=\"ds-text-title-subtle-m ds-font-medium ds-mb-1\">2020s</div><a class=\"ds-inline-flex ds-items-start ds-leading-none\" href=\"/records/season/team-match-results/2023to24-2023to24?trophy=12\" title=\"2023/24\"><span class=\"ds-text-tight-m ds-font-regular ds-text-typo hover:ds-text-typo-primary ds-block ds-mr-2 ds-pr-2\">2023/24</span></a></div>]"
      ]
     },
     "execution_count": 3,
     "metadata": {},
     "output_type": "execute_result"
    }
   ],
   "source": [
    "url = r\"https://www.espncricinfo.com\"\n",
    "dic = {}\n",
    "lsit"
   ]
  },
  {
   "cell_type": "code",
   "execution_count": 4,
   "metadata": {},
   "outputs": [],
   "source": [
    "for link in lsit:\n",
    "    links = link.find_all(\"a\")\n",
    "    for i in links:\n",
    "        dic[i[\"title\"]] = url + i[\"href\"]\n",
    "        #print(i[\"title\"],\"   \",i[\"href\"])"
   ]
  },
  {
   "cell_type": "code",
   "execution_count": 14,
   "metadata": {},
   "outputs": [
    {
     "data": {
      "text/plain": [
       "{'1975': 'https://www.espncricinfo.com/records/season/team-match-results/1975-1975?trophy=12',\n",
       " '1979': 'https://www.espncricinfo.com/records/season/team-match-results/1979-1979?trophy=12',\n",
       " '1983': 'https://www.espncricinfo.com/records/season/team-match-results/1983-1983?trophy=12',\n",
       " '1987/88': 'https://www.espncricinfo.com/records/season/team-match-results/1987to88-1987to88?trophy=12',\n",
       " '1991/92': 'https://www.espncricinfo.com/records/season/team-match-results/1991to92-1991to92?trophy=12',\n",
       " '1995/96': 'https://www.espncricinfo.com/records/season/team-match-results/1995to96-1995to96?trophy=12',\n",
       " '1999': 'https://www.espncricinfo.com/records/season/team-match-results/1999-1999?trophy=12',\n",
       " '2002/03': 'https://www.espncricinfo.com/records/season/team-match-results/2002to03-2002to03?trophy=12',\n",
       " '2006/07': 'https://www.espncricinfo.com/records/season/team-match-results/2006to07-2006to07?trophy=12',\n",
       " '2010/11': 'https://www.espncricinfo.com/records/season/team-match-results/2010to11-2010to11?trophy=12',\n",
       " '2014/15': 'https://www.espncricinfo.com/records/season/team-match-results/2014to15-2014to15?trophy=12',\n",
       " '2019': 'https://www.espncricinfo.com/records/season/team-match-results/2019-2019?trophy=12',\n",
       " '2023/24': 'https://www.espncricinfo.com/records/season/team-match-results/2023to24-2023to24?trophy=12'}"
      ]
     },
     "execution_count": 14,
     "metadata": {},
     "output_type": "execute_result"
    }
   ],
   "source": [
    "dic"
   ]
  },
  {
   "cell_type": "code",
   "execution_count": 15,
   "metadata": {},
   "outputs": [],
   "source": [
    "key = list(dic.keys())\n",
    "value = list(dic.values())\n",
    "key_value = {\"Year\":key,\"Link\":value}"
   ]
  },
  {
   "cell_type": "code",
   "execution_count": 16,
   "metadata": {},
   "outputs": [
    {
     "data": {
      "text/plain": [
       "{'Year': ['1975',\n",
       "  '1979',\n",
       "  '1983',\n",
       "  '1987/88',\n",
       "  '1991/92',\n",
       "  '1995/96',\n",
       "  '1999',\n",
       "  '2002/03',\n",
       "  '2006/07',\n",
       "  '2010/11',\n",
       "  '2014/15',\n",
       "  '2019',\n",
       "  '2023/24'],\n",
       " 'Link': ['https://www.espncricinfo.com/records/season/team-match-results/1975-1975?trophy=12',\n",
       "  'https://www.espncricinfo.com/records/season/team-match-results/1979-1979?trophy=12',\n",
       "  'https://www.espncricinfo.com/records/season/team-match-results/1983-1983?trophy=12',\n",
       "  'https://www.espncricinfo.com/records/season/team-match-results/1987to88-1987to88?trophy=12',\n",
       "  'https://www.espncricinfo.com/records/season/team-match-results/1991to92-1991to92?trophy=12',\n",
       "  'https://www.espncricinfo.com/records/season/team-match-results/1995to96-1995to96?trophy=12',\n",
       "  'https://www.espncricinfo.com/records/season/team-match-results/1999-1999?trophy=12',\n",
       "  'https://www.espncricinfo.com/records/season/team-match-results/2002to03-2002to03?trophy=12',\n",
       "  'https://www.espncricinfo.com/records/season/team-match-results/2006to07-2006to07?trophy=12',\n",
       "  'https://www.espncricinfo.com/records/season/team-match-results/2010to11-2010to11?trophy=12',\n",
       "  'https://www.espncricinfo.com/records/season/team-match-results/2014to15-2014to15?trophy=12',\n",
       "  'https://www.espncricinfo.com/records/season/team-match-results/2019-2019?trophy=12',\n",
       "  'https://www.espncricinfo.com/records/season/team-match-results/2023to24-2023to24?trophy=12']}"
      ]
     },
     "execution_count": 16,
     "metadata": {},
     "output_type": "execute_result"
    }
   ],
   "source": [
    "key_value"
   ]
  },
  {
   "cell_type": "code",
   "execution_count": 19,
   "metadata": {},
   "outputs": [],
   "source": [
    "import pandas as pd\n",
    "math_link = pd.DataFrame(key_value)\n",
    "math_link.to_csv(\"Match Links.csv\",index=False)"
   ]
  },
  {
   "cell_type": "code",
   "execution_count": null,
   "metadata": {},
   "outputs": [],
   "source": []
  },
  {
   "cell_type": "code",
   "execution_count": null,
   "metadata": {},
   "outputs": [],
   "source": []
  }
 ],
 "metadata": {
  "kernelspec": {
   "display_name": "base",
   "language": "python",
   "name": "python3"
  },
  "language_info": {
   "codemirror_mode": {
    "name": "ipython",
    "version": 3
   },
   "file_extension": ".py",
   "mimetype": "text/x-python",
   "name": "python",
   "nbconvert_exporter": "python",
   "pygments_lexer": "ipython3",
   "version": "3.12.4"
  }
 },
 "nbformat": 4,
 "nbformat_minor": 2
}
