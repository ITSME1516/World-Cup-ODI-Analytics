{
 "cells": [
  {
   "cell_type": "code",
   "execution_count": 1,
   "metadata": {},
   "outputs": [],
   "source": [
    "import pandas as pd\n",
    "import bs4\n",
    "import csv \n",
    "import requests"
   ]
  },
  {
   "cell_type": "code",
   "execution_count": 2,
   "metadata": {},
   "outputs": [
    {
     "data": {
      "text/html": [
       "<div>\n",
       "<style scoped>\n",
       "    .dataframe tbody tr th:only-of-type {\n",
       "        vertical-align: middle;\n",
       "    }\n",
       "\n",
       "    .dataframe tbody tr th {\n",
       "        vertical-align: top;\n",
       "    }\n",
       "\n",
       "    .dataframe thead th {\n",
       "        text-align: right;\n",
       "    }\n",
       "</style>\n",
       "<table border=\"1\" class=\"dataframe\">\n",
       "  <thead>\n",
       "    <tr style=\"text-align: right;\">\n",
       "      <th></th>\n",
       "      <th>Name</th>\n",
       "      <th>Link</th>\n",
       "    </tr>\n",
       "  </thead>\n",
       "  <tbody>\n",
       "    <tr>\n",
       "      <th>0</th>\n",
       "      <td>Dennis Lillee</td>\n",
       "      <td>https://www.espncricinfo.com/cricketers/dennis...</td>\n",
       "    </tr>\n",
       "    <tr>\n",
       "      <th>1</th>\n",
       "      <td>Gary Gilmour</td>\n",
       "      <td>https://www.espncricinfo.com/cricketers/gary-g...</td>\n",
       "    </tr>\n",
       "    <tr>\n",
       "      <th>2</th>\n",
       "      <td>Max Walker</td>\n",
       "      <td>https://www.espncricinfo.com/cricketers/max-wa...</td>\n",
       "    </tr>\n",
       "    <tr>\n",
       "      <th>3</th>\n",
       "      <td>Jeff Thomson</td>\n",
       "      <td>https://www.espncricinfo.com/cricketers/jeff-t...</td>\n",
       "    </tr>\n",
       "    <tr>\n",
       "      <th>4</th>\n",
       "      <td>Geoff Arnold</td>\n",
       "      <td>https://www.espncricinfo.com/cricketers/geoff-...</td>\n",
       "    </tr>\n",
       "  </tbody>\n",
       "</table>\n",
       "</div>"
      ],
      "text/plain": [
       "            Name                                               Link\n",
       "0  Dennis Lillee  https://www.espncricinfo.com/cricketers/dennis...\n",
       "1   Gary Gilmour  https://www.espncricinfo.com/cricketers/gary-g...\n",
       "2     Max Walker  https://www.espncricinfo.com/cricketers/max-wa...\n",
       "3   Jeff Thomson  https://www.espncricinfo.com/cricketers/jeff-t...\n",
       "4   Geoff Arnold  https://www.espncricinfo.com/cricketers/geoff-..."
      ]
     },
     "execution_count": 2,
     "metadata": {},
     "output_type": "execute_result"
    }
   ],
   "source": [
    "data = pd.read_csv(\"./Data/Player Links.csv\")\n",
    "data.head()"
   ]
  },
  {
   "cell_type": "code",
   "execution_count": 3,
   "metadata": {},
   "outputs": [],
   "source": [
    "names = list(data.Name)\n",
    "links = list(data.Link)"
   ]
  },
  {
   "cell_type": "code",
   "execution_count": 4,
   "metadata": {},
   "outputs": [
    {
     "name": "stdout",
     "output_type": "stream",
     "text": [
      "['Dennis Lillee', 'Gary Gilmour', 'Max Walker', 'Jeff Thomson', 'Geoff Arnold']\n",
      "['https://www.espncricinfo.com/cricketers/dennis-lillee-6295', 'https://www.espncricinfo.com/cricketers/gary-gilmour-5396', 'https://www.espncricinfo.com/cricketers/max-walker-8137', 'https://www.espncricinfo.com/cricketers/jeff-thomson-7946', 'https://www.espncricinfo.com/cricketers/geoff-arnold-8566']\n"
     ]
    }
   ],
   "source": [
    "print(names[:5])\n",
    "print(links[:5])"
   ]
  },
  {
   "cell_type": "code",
   "execution_count": 7,
   "metadata": {},
   "outputs": [],
   "source": [
    "all_info = []\n",
    "for name, url in zip(names,links):\n",
    "    try:\n",
    "        all_infocode = requests.get(url)\n",
    "        soup = bs4.BeautifulSoup(all_infocode.content,\"html.parser\")\n",
    "        t = soup.find(\"div\",attrs={\"class\":\"ds-grid lg:ds-grid-cols-3 ds-grid-cols-2 ds-gap-4 ds-mb-8\"})\n",
    "        info = {}\n",
    "        for i in t.find_all(\"div\"):\n",
    "            info[i.p.text] = i.span.text\n",
    "            if i.p.text == \"Full Name\" :\n",
    "                info[\"Name\"] = name\n",
    "    except Exception as AttributeError:\n",
    "        pass\n",
    "    all_info.append(info)\n"
   ]
  },
  {
   "cell_type": "code",
   "execution_count": 8,
   "metadata": {},
   "outputs": [],
   "source": [
    "all_info_df = pd.DataFrame(all_info)\n",
    "all_info_df.to_csv(\"./Data/Player Info.csv\",index=False)"
   ]
  },
  {
   "cell_type": "code",
   "execution_count": null,
   "metadata": {},
   "outputs": [],
   "source": []
  }
 ],
 "metadata": {
  "kernelspec": {
   "display_name": "base",
   "language": "python",
   "name": "python3"
  },
  "language_info": {
   "codemirror_mode": {
    "name": "ipython",
    "version": 3
   },
   "file_extension": ".py",
   "mimetype": "text/x-python",
   "name": "python",
   "nbconvert_exporter": "python",
   "pygments_lexer": "ipython3",
   "version": "3.12.4"
  }
 },
 "nbformat": 4,
 "nbformat_minor": 2
}
